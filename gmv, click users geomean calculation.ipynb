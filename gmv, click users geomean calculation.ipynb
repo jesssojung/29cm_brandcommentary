{
 "cells": [
  {
   "cell_type": "code",
   "execution_count": 26,
   "id": "f6212497",
   "metadata": {
    "ExecuteTime": {
     "end_time": "2022-09-05T08:32:40.349116Z",
     "start_time": "2022-09-05T08:32:40.325181Z"
    }
   },
   "outputs": [],
   "source": [
    "# 라이브러리 import\n",
    "import pandas as pd\n",
    "import numpy as np\n",
    "import statistics as st\n",
    "\n",
    "# 경고 메세지 무시\n",
    "import warnings\n",
    "warnings.simplefilter(action = 'ignore', category = FutureWarning)"
   ]
  },
  {
   "cell_type": "code",
   "execution_count": 17,
   "id": "01488701",
   "metadata": {
    "ExecuteTime": {
     "end_time": "2022-09-05T08:25:33.560356Z",
     "start_time": "2022-09-05T08:25:14.267416Z"
    }
   },
   "outputs": [],
   "source": [
    "prd = pd.read_csv('product_processed.csv')\n",
    "evt = pd.read_csv('event_processed.csv')\n",
    "df = pd.merge(evt,prd, how = 'inner', on = 'item_no')\n",
    "del prd\n",
    "del evt"
   ]
  },
  {
   "cell_type": "code",
   "execution_count": 27,
   "id": "226b86a2",
   "metadata": {
    "ExecuteTime": {
     "end_time": "2022-09-05T08:33:15.705013Z",
     "start_time": "2022-09-05T08:32:48.168700Z"
    }
   },
   "outputs": [],
   "source": [
    "# 주차 컬럼 추가\n",
    "df['w'] = pd.to_datetime(df.event_timestamp).dt.week\n",
    "\n",
    "df.loc[(df.event_timestamp > '2021-06-03') & (df.event_timestamp <= '2021-06-10'),'w'] = '2021-06-03'\n",
    "df.loc[(df.event_timestamp > '2021-06-10') & (df.event_timestamp <= '2021-06-17'),'w'] = '2021-06-10'\n",
    "df.loc[(df.event_timestamp > '2021-06-17') & (df.event_timestamp <= '2021-06-24'),'w'] = '2021-06-17'\n",
    "df.loc[(df.event_timestamp > '2021-06-24') & (df.event_timestamp <= '2021-07-01'),'w'] = '2021-06-24'\n",
    "df.loc[(df.event_timestamp > '2021-07-01') & (df.event_timestamp <= '2021-07-08'),'w'] = '2021-07-01'\n",
    "df.loc[(df.event_timestamp > '2021-07-08') & (df.event_timestamp <= '2021-07-15'),'w'] = '2021-07-08'\n",
    "df.loc[(df.event_timestamp > '2021-07-15') & (df.event_timestamp <= '2021-07-22'),'w'] = '2021-07-15'\n",
    "df.loc[(df.event_timestamp > '2021-07-22') & (df.event_timestamp <= '2021-07-29'),'w'] = '2021-07-22'\n",
    "df.loc[(df.event_timestamp > '2021-07-29'),'w'] = '2021-07-29'"
   ]
  },
  {
   "cell_type": "markdown",
   "id": "37b46067",
   "metadata": {},
   "source": [
    "#### 의류, 잡화 상승률 및 기하 평균 계산"
   ]
  },
  {
   "cell_type": "code",
   "execution_count": 23,
   "id": "8814c66f",
   "metadata": {
    "ExecuteTime": {
     "end_time": "2022-09-05T08:32:15.060478Z",
     "start_time": "2022-09-05T08:32:09.730799Z"
    }
   },
   "outputs": [],
   "source": [
    "# 카테고리 중분류 및 주차별 매출액 피벗테이블 생성\n",
    "tmp = pd.pivot_table(data = df[(df.event_name == 'purchase_success')&((df.category1_name == '의류')|(df.category1_name == '잡화'))], index = 'category2_name', columns = 'w',values = 'price', aggfunc = 'sum').reset_index()"
   ]
  },
  {
   "cell_type": "code",
   "execution_count": 24,
   "id": "e2d9f61b",
   "metadata": {
    "ExecuteTime": {
     "end_time": "2022-09-05T08:32:23.642102Z",
     "start_time": "2022-09-05T08:32:23.614023Z"
    }
   },
   "outputs": [],
   "source": [
    "# 주 단위 매출 상승률 계산\n",
    "tmp['2021-06-10_pct'] = (tmp['2021-06-10'] - tmp['2021-06-03'])/tmp['2021-06-03']\n",
    "tmp['2021-06-17_pct'] = (tmp['2021-06-17'] - tmp['2021-06-10'])/tmp['2021-06-10']\n",
    "tmp['2021-06-24_pct'] = (tmp['2021-06-24'] - tmp['2021-06-17'])/tmp['2021-06-17']\n",
    "tmp['2021-07-01_pct'] = (tmp['2021-07-01'] - tmp['2021-06-24'])/tmp['2021-06-24']\n",
    "tmp['2021-07-08_pct'] = (tmp['2021-07-08'] - tmp['2021-07-01'])/tmp['2021-07-01']\n",
    "tmp['2021-07-15_pct'] = (tmp['2021-07-15'] - tmp['2021-07-08'])/tmp['2021-07-08']\n",
    "tmp['2021-07-22_pct'] = (tmp['2021-07-22'] - tmp['2021-07-15'])/tmp['2021-07-15']\n",
    "tmp['2021-07-29_pct'] = (tmp['2021-07-29'] - tmp['2021-07-22'])/tmp['2021-07-22']"
   ]
  },
  {
   "cell_type": "code",
   "execution_count": 25,
   "id": "dc7b1ac4",
   "metadata": {
    "ExecuteTime": {
     "end_time": "2022-09-05T08:32:32.260074Z",
     "start_time": "2022-09-05T08:32:32.203226Z"
    }
   },
   "outputs": [],
   "source": [
    "# 주 단위 평균 매출 상승률 계산(기하평균 활용)\n",
    "geo_mean = []\n",
    "for i in range(len(tmp)):\n",
    "    geo_mean.append((st.geometric_mean(tmp[['2021-06-10_pct','2021-06-17_pct', '2021-06-24_pct', '2021-07-01_pct', '2021-07-08_pct','2021-07-15_pct', '2021-07-22_pct', '2021-07-29_pct']].T[i] + 1) - 1))\n",
    "\n",
    "tmp['geo_mean'] = geo_mean\n",
    "tmp['gmv'] = tmp[['2021-06-03', '2021-06-10', '2021-06-17','2021-06-24', '2021-07-01', '2021-07-08', '2021-07-15', '2021-07-22','2021-07-29']].sum(axis = 1)\n",
    "tmp.columns.name = ''"
   ]
  },
  {
   "cell_type": "markdown",
   "id": "9fdb28ae",
   "metadata": {},
   "source": [
    "#### 가구/인테리어, 디지털/가전 카테고리 상승률 및 기하 평균 계산"
   ]
  },
  {
   "cell_type": "code",
   "execution_count": 50,
   "id": "5c40c9ec",
   "metadata": {
    "ExecuteTime": {
     "end_time": "2022-09-05T08:43:28.250822Z",
     "start_time": "2022-09-05T08:43:27.154095Z"
    }
   },
   "outputs": [],
   "source": [
    "tmp_2 = pd.pivot_table(data = df[(df.event_name == 'purchase_success')&((df.category1_name == '디지털/가전')|(df.category1_name == '가구/인테리어'))], index = 'category2_name', columns = 'w',values = 'user_no', aggfunc = 'nunique').reset_index()"
   ]
  },
  {
   "cell_type": "code",
   "execution_count": 53,
   "id": "ee02abf2",
   "metadata": {
    "ExecuteTime": {
     "end_time": "2022-09-05T08:44:10.582891Z",
     "start_time": "2022-09-05T08:44:10.566279Z"
    }
   },
   "outputs": [],
   "source": [
    "# 주 단위 클릭 유저 수 상승률 계산\n",
    "tmp_2['2021-06-10_pct'] = (tmp_2['2021-06-10'] - tmp_2['2021-06-03'])/tmp_2['2021-06-03']\n",
    "tmp_2['2021-06-17_pct'] = (tmp_2['2021-06-17'] - tmp_2['2021-06-10'])/tmp_2['2021-06-10']\n",
    "tmp_2['2021-06-24_pct'] = (tmp_2['2021-06-24'] - tmp_2['2021-06-17'])/tmp_2['2021-06-17']\n",
    "tmp_2['2021-07-01_pct'] = (tmp_2['2021-07-01'] - tmp_2['2021-06-24'])/tmp_2['2021-06-24']\n",
    "tmp_2['2021-07-08_pct'] = (tmp_2['2021-07-08'] - tmp_2['2021-07-01'])/tmp_2['2021-07-01']\n",
    "tmp_2['2021-07-15_pct'] = (tmp_2['2021-07-15'] - tmp_2['2021-07-08'])/tmp_2['2021-07-08']\n",
    "tmp_2['2021-07-22_pct'] = (tmp_2['2021-07-22'] - tmp_2['2021-07-15'])/tmp_2['2021-07-15']\n",
    "tmp_2['2021-07-29_pct'] = (tmp_2['2021-07-29'] - tmp_2['2021-07-22'])/tmp_2['2021-07-22']"
   ]
  },
  {
   "cell_type": "code",
   "execution_count": 54,
   "id": "b4c0d9b1",
   "metadata": {
    "ExecuteTime": {
     "end_time": "2022-09-05T08:44:18.431471Z",
     "start_time": "2022-09-05T08:44:18.388437Z"
    },
    "scrolled": true
   },
   "outputs": [],
   "source": [
    "geo_mean = []\n",
    "\n",
    "for i in range(len(tmp_2)):\n",
    "    geo_mean.append((st.geometric_mean(tmp_2[['2021-06-10_pct','2021-06-17_pct', '2021-06-24_pct', '2021-07-01_pct', '2021-07-08_pct','2021-07-15_pct', '2021-07-22_pct', '2021-07-29_pct']].T[i] + 1)-1))\n",
    "\n",
    "tmp_2['geo_mean'] = geo_mean\n",
    "tmp_2['click_user_cnt'] = tmp_2[['2021-06-03', '2021-06-10', '2021-06-17','2021-06-24', '2021-07-01', '2021-07-08', '2021-07-15', '2021-07-22','2021-07-29']].sum(axis = 1)\n",
    "tmp_2.columns.name = ''"
   ]
  }
 ],
 "metadata": {
  "kernelspec": {
   "display_name": "Python 3 (ipykernel)",
   "language": "python",
   "name": "python3"
  },
  "language_info": {
   "codemirror_mode": {
    "name": "ipython",
    "version": 3
   },
   "file_extension": ".py",
   "mimetype": "text/x-python",
   "name": "python",
   "nbconvert_exporter": "python",
   "pygments_lexer": "ipython3",
   "version": "3.8.13"
  },
  "toc": {
   "base_numbering": 1,
   "nav_menu": {},
   "number_sections": false,
   "sideBar": true,
   "skip_h1_title": false,
   "title_cell": "Table of Contents",
   "title_sidebar": "Contents",
   "toc_cell": false,
   "toc_position": {},
   "toc_section_display": true,
   "toc_window_display": false
  },
  "varInspector": {
   "cols": {
    "lenName": 16,
    "lenType": 16,
    "lenVar": 40
   },
   "kernels_config": {
    "python": {
     "delete_cmd_postfix": "",
     "delete_cmd_prefix": "del ",
     "library": "var_list.py",
     "varRefreshCmd": "print(var_dic_list())"
    },
    "r": {
     "delete_cmd_postfix": ") ",
     "delete_cmd_prefix": "rm(",
     "library": "var_list.r",
     "varRefreshCmd": "cat(var_dic_list()) "
    }
   },
   "types_to_exclude": [
    "module",
    "function",
    "builtin_function_or_method",
    "instance",
    "_Feature"
   ],
   "window_display": false
  }
 },
 "nbformat": 4,
 "nbformat_minor": 5
}
