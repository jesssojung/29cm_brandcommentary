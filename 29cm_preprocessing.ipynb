{
 "cells": [
  {
   "cell_type": "code",
   "execution_count": 2,
   "id": "5cecdef7",
   "metadata": {
    "ExecuteTime": {
     "end_time": "2022-09-05T08:12:54.319241Z",
     "start_time": "2022-09-05T08:12:54.277395Z"
    }
   },
   "outputs": [],
   "source": [
    "# 라이브러리 import\n",
    "import pandas as pd\n",
    "import numpy as np"
   ]
  },
  {
   "cell_type": "markdown",
   "id": "923f5724",
   "metadata": {
    "ExecuteTime": {
     "end_time": "2022-09-05T07:26:58.901632Z",
     "start_time": "2022-09-05T07:26:58.893655Z"
    }
   },
   "source": [
    "### Product 파일 전처리"
   ]
  },
  {
   "cell_type": "markdown",
   "id": "1dff81de",
   "metadata": {},
   "source": [
    "#### 카테고리 코드 전처리"
   ]
  },
  {
   "cell_type": "code",
   "execution_count": 3,
   "id": "8cd72111",
   "metadata": {
    "ExecuteTime": {
     "end_time": "2022-09-05T08:12:56.837720Z",
     "start_time": "2022-09-05T08:12:55.187647Z"
    }
   },
   "outputs": [],
   "source": [
    "# product 파일 불러오기\n",
    "prd = pd.read_csv('sampled_products.csv', encoding = 'utf-8')\n",
    "\n",
    "# 카테고리 재분류 csv 파일 불러오기\n",
    "category1 = pd.read_csv('category1.csv', encoding = 'utf-8')\n",
    "category2 = pd.read_csv('category2.csv', encoding = 'utf-8')\n",
    "category3 = pd.read_csv('category3.csv', encoding = 'utf-8')"
   ]
  },
  {
   "cell_type": "code",
   "execution_count": 4,
   "id": "bba41160",
   "metadata": {
    "ExecuteTime": {
     "end_time": "2022-09-05T08:12:57.821082Z",
     "start_time": "2022-09-05T08:12:57.037179Z"
    }
   },
   "outputs": [],
   "source": [
    "# product 파일에 merge\n",
    "prd_ctg = pd.merge(prd, category1, left_on = 'category1_code',  right_on = 'c1_old', how = 'left')\n",
    "prd_ctg = pd.merge(prd_ctg, category2, left_on = 'category2_code', right_on = 'c2_old', how = 'left')\n",
    "prd_ctg = pd.merge(prd_ctg, category3, left_on = 'category3_code', right_on = 'c3_old', how = 'left')"
   ]
  },
  {
   "cell_type": "code",
   "execution_count": 5,
   "id": "575f27d7",
   "metadata": {
    "ExecuteTime": {
     "end_time": "2022-09-05T08:12:58.676678Z",
     "start_time": "2022-09-05T08:12:58.619948Z"
    }
   },
   "outputs": [],
   "source": [
    "# 카테고리 대분류, 중분류, 소분류 전처리\n",
    "prd_ctg.loc[prd_ctg['c1_old'].notnull(), 'category1_name'] = prd_ctg.loc[prd_ctg['c1_old'].notnull(), 'c1_name']\n",
    "prd_ctg.loc[prd_ctg['c1_old'].notnull(), 'category1_code'] = prd_ctg.loc[prd_ctg['c1_old'].notnull(), 'c1_new']\n",
    "prd_ctg.loc[prd_ctg['c2_old'].notnull(), 'category2_name'] = prd_ctg.loc[prd_ctg['c2_old'].notnull(), 'c2_name']\n",
    "prd_ctg.loc[prd_ctg['c2_old'].notnull(), 'category2_code'] = prd_ctg.loc[prd_ctg['c2_old'].notnull(), 'c2_new']\n",
    "prd_ctg.loc[prd_ctg['c3_old'].notnull(), 'category3_name'] = prd_ctg.loc[prd_ctg['c3_old'].notnull(), 'c3_name']\n",
    "prd_ctg.loc[prd_ctg['c2_old'].notnull(), 'category3_code'] = prd_ctg.loc[prd_ctg['c3_old'].notnull(), 'c3_new']"
   ]
  },
  {
   "cell_type": "code",
   "execution_count": 6,
   "id": "be160f1f",
   "metadata": {
    "ExecuteTime": {
     "end_time": "2022-09-05T08:12:59.683274Z",
     "start_time": "2022-09-05T08:12:59.446577Z"
    }
   },
   "outputs": [],
   "source": [
    "# 컬럼 정리\n",
    "prd_ctg.drop(columns = ['c1_old', 'c1_new', 'c1_name', 'c2_old', 'c2_new', 'c2_name', 'c3_old', 'c3_new', 'c3_name'], inplace = True)"
   ]
  },
  {
   "cell_type": "markdown",
   "id": "9ed2255b",
   "metadata": {},
   "source": [
    "#### 카테고리 간 미스 매치 코드, 이름 전처리"
   ]
  },
  {
   "cell_type": "code",
   "execution_count": 7,
   "id": "490c3be3",
   "metadata": {
    "ExecuteTime": {
     "end_time": "2022-09-05T08:13:00.274806Z",
     "start_time": "2022-09-05T08:13:00.258849Z"
    }
   },
   "outputs": [],
   "source": [
    "prd_ctg_2 = pd.read_csv('ctg_preprocessing.csv', encoding = 'utf-8', sep = '|')"
   ]
  },
  {
   "cell_type": "code",
   "execution_count": 8,
   "id": "ac6c3702",
   "metadata": {
    "ExecuteTime": {
     "end_time": "2022-09-05T08:13:00.778387Z",
     "start_time": "2022-09-05T08:13:00.675529Z"
    }
   },
   "outputs": [],
   "source": [
    "prd_ctg_2 = pd.merge(prd_ctg, prd_ctg_2, left_on = 'category3_code', right_on = 'category3_code', how = 'left')"
   ]
  },
  {
   "cell_type": "code",
   "execution_count": 9,
   "id": "b2db5115",
   "metadata": {
    "ExecuteTime": {
     "end_time": "2022-09-05T08:13:01.323385Z",
     "start_time": "2022-09-05T08:13:01.184817Z"
    }
   },
   "outputs": [],
   "source": [
    "# 카테고리 대분류, 중분류 코드&이름 전처리\n",
    "prd_ctg_2.loc[prd_ctg_2['category1_name_y'].notnull(), 'category1_code_x'] = prd_ctg_2.loc[prd_ctg_2['category1_name_y'].notnull(), 'category1_code_y']\n",
    "prd_ctg_2.loc[prd_ctg_2['category1_name_y'].notnull(), 'category1_name_x'] = prd_ctg_2.loc[prd_ctg_2['category1_name_y'].notnull(), 'category1_name_y']\n",
    "prd_ctg_2.loc[prd_ctg_2['category2_name_y'].notnull(), 'category2_code_x'] = prd_ctg_2.loc[prd_ctg_2['category2_name_y'].notnull(), 'category2_code_y']\n",
    "prd_ctg_2.loc[prd_ctg_2['category2_name_y'].notnull(), 'category2_name_x'] = prd_ctg_2.loc[prd_ctg_2['category2_name_y'].notnull(), 'category2_name_y']"
   ]
  },
  {
   "cell_type": "code",
   "execution_count": 10,
   "id": "6f802637",
   "metadata": {
    "ExecuteTime": {
     "end_time": "2022-09-05T08:13:02.261737Z",
     "start_time": "2022-09-05T08:13:02.085878Z"
    }
   },
   "outputs": [],
   "source": [
    "# 컬럼 정리\n",
    "prd_ctg_2.drop(columns = ['category1_name_y', 'category1_code_y', 'category2_name_y', 'category2_code_y', 'category3_name_y'], inplace = True)\n",
    "prd_ctg_2.columns = ['item_no', 'item_name', 'image_name', 'price', 'category1_code',\n",
    "       'category1_name', 'category2_code', 'category2_name',\n",
    "       'category3_code', 'category3_name', 'brand_no', 'brand_name']"
   ]
  },
  {
   "cell_type": "markdown",
   "id": "33582651",
   "metadata": {},
   "source": [
    "#### 브랜드 이름 전처리"
   ]
  },
  {
   "cell_type": "code",
   "execution_count": 11,
   "id": "e14e8e16",
   "metadata": {
    "ExecuteTime": {
     "end_time": "2022-09-05T08:13:04.147531Z",
     "start_time": "2022-09-05T08:13:04.129546Z"
    }
   },
   "outputs": [],
   "source": [
    "prd_ctg_2.loc[prd_ctg_2['brand_no'] == 2551, 'brand_name'] = '눌'"
   ]
  },
  {
   "cell_type": "code",
   "execution_count": 12,
   "id": "1ab4e40b",
   "metadata": {
    "ExecuteTime": {
     "end_time": "2022-09-05T08:13:04.462571Z",
     "start_time": "2022-09-05T08:13:04.347879Z"
    }
   },
   "outputs": [],
   "source": [
    "prd_ctg_2.loc[prd_ctg_2['item_name'] == '그린티 모이스트 파하 거즈 필링(30매)', 'brand_name'] = '네오젠'\n",
    "prd_ctg_2.loc[prd_ctg_2['item_name'] == 'EMF 전자파차단 침대 거실 프리미엄 전기요', 'brand_name'] = '한스갤러리'\n",
    "prd_ctg_2.loc[prd_ctg_2['item_name'] == '[프리미엄침구] 시원한 시어서커/인견 여름이불 모음', 'brand_name'] = '오르다'\n",
    "prd_ctg_2.loc[prd_ctg_2['brand_name'] == '네오젠', 'brand_no'] = 7980\n",
    "prd_ctg_2.loc[prd_ctg_2['brand_name'] == '오르다', 'brand_no'] = 12647\n",
    "prd_ctg_2.loc[prd_ctg_2['brand_name'] == '한스갤러리', 'brand_no'] = 11456"
   ]
  },
  {
   "cell_type": "code",
   "execution_count": 13,
   "id": "89221c5f",
   "metadata": {
    "ExecuteTime": {
     "end_time": "2022-09-05T08:13:05.329368Z",
     "start_time": "2022-09-05T08:13:05.272039Z"
    }
   },
   "outputs": [],
   "source": [
    "del prd_ctg\n",
    "del prd"
   ]
  },
  {
   "cell_type": "code",
   "execution_count": 14,
   "id": "9eb86eca",
   "metadata": {
    "ExecuteTime": {
     "end_time": "2022-09-05T08:13:08.602149Z",
     "start_time": "2022-09-05T08:13:06.556398Z"
    }
   },
   "outputs": [],
   "source": [
    "prd_ctg_2.to_csv('product_processed.csv', encoding = 'utf-8', index = False)"
   ]
  },
  {
   "cell_type": "markdown",
   "id": "8dc508c7",
   "metadata": {},
   "source": [
    "### Event 파일 전처리"
   ]
  },
  {
   "cell_type": "markdown",
   "id": "4b6e3597",
   "metadata": {},
   "source": [
    "#### 이벤트 로그 중 'session_id', 'event_timestamp', 'event_name', 'user_no', 'item_no' 중복 행 제거"
   ]
  },
  {
   "cell_type": "code",
   "execution_count": 15,
   "id": "3f202f2d",
   "metadata": {
    "ExecuteTime": {
     "end_time": "2022-09-05T08:13:35.221222Z",
     "start_time": "2022-09-05T08:13:16.454341Z"
    }
   },
   "outputs": [],
   "source": [
    "# event 파일 불러오기\n",
    "evt = pd.read_csv('sampled_events.csv', encoding = 'utf-8')"
   ]
  },
  {
   "cell_type": "code",
   "execution_count": 16,
   "id": "134f7d6d",
   "metadata": {
    "ExecuteTime": {
     "end_time": "2022-09-05T08:13:45.389032Z",
     "start_time": "2022-09-05T08:13:35.419694Z"
    }
   },
   "outputs": [],
   "source": [
    "# 'session_id', 'event_timestamp', 'event_name', 'user_no', 'item_no' 중복 행 제거\n",
    "evt.drop_duplicates(subset = ['session_id', 'event_timestamp', 'event_name', 'user_no', 'item_no'], inplace = True)"
   ]
  },
  {
   "cell_type": "code",
   "execution_count": 85,
   "id": "89da99a4",
   "metadata": {
    "ExecuteTime": {
     "end_time": "2022-09-05T07:32:15.978585Z",
     "start_time": "2022-09-05T07:31:37.479827Z"
    }
   },
   "outputs": [],
   "source": [
    "evt.to_csv('event_processed.csv', encoding = 'utf-8', index = False)"
   ]
  },
  {
   "cell_type": "markdown",
   "id": "a93629ff",
   "metadata": {},
   "source": [
    "### User 파일 전처리"
   ]
  },
  {
   "cell_type": "code",
   "execution_count": 87,
   "id": "aacdba86",
   "metadata": {
    "ExecuteTime": {
     "end_time": "2022-09-05T07:33:06.054930Z",
     "start_time": "2022-09-05T07:33:05.801987Z"
    }
   },
   "outputs": [],
   "source": [
    "# user 파일 불러오기\n",
    "user = pd.read_csv('sampled_users.csv', encoding = 'utf-8')"
   ]
  },
  {
   "cell_type": "code",
   "execution_count": 99,
   "id": "9f2546d6",
   "metadata": {
    "ExecuteTime": {
     "end_time": "2022-09-05T07:40:27.912381Z",
     "start_time": "2022-09-05T07:40:27.803226Z"
    }
   },
   "outputs": [],
   "source": [
    "# Null 값 제거\n",
    "user.dropna(inplace = True)"
   ]
  },
  {
   "cell_type": "markdown",
   "id": "60e96ea9",
   "metadata": {},
   "source": [
    "#### age 컬럼 추가"
   ]
  },
  {
   "cell_type": "code",
   "execution_count": 100,
   "id": "878e9f12",
   "metadata": {
    "ExecuteTime": {
     "end_time": "2022-09-05T07:40:29.933196Z",
     "start_time": "2022-09-05T07:40:29.815970Z"
    }
   },
   "outputs": [],
   "source": [
    "# age 컬럼 생성\n",
    "user['age'] = 2022 - user.birth_date.str[:4].astype('int32') + 1\n",
    "# 만 14세 미만 전처리\n",
    "user.drop(user[user['age'] < 15].index, inplace = True)"
   ]
  },
  {
   "cell_type": "markdown",
   "id": "6a6af0d0",
   "metadata": {},
   "source": [
    "#### 성별 0, 1 구분 컬럼 추가"
   ]
  },
  {
   "cell_type": "code",
   "execution_count": 110,
   "id": "07483fd0",
   "metadata": {
    "ExecuteTime": {
     "end_time": "2022-09-05T07:43:07.721116Z",
     "start_time": "2022-09-05T07:43:07.621335Z"
    }
   },
   "outputs": [],
   "source": [
    "# F, M 컬럼 생성\n",
    "user.loc[user['gender'] == 'F', 'F'] = '1'\n",
    "user.loc[user['gender'] == 'F', 'M'] = '0'\n",
    "user.loc[user['gender'] == 'M', 'M'] = '1'\n",
    "user.loc[user['gender'] == 'M', 'F'] = '0'"
   ]
  },
  {
   "cell_type": "code",
   "execution_count": 143,
   "id": "23065bc0",
   "metadata": {
    "ExecuteTime": {
     "end_time": "2022-09-05T08:01:11.782893Z",
     "start_time": "2022-09-05T08:01:11.275519Z"
    }
   },
   "outputs": [],
   "source": [
    "user.to_csv('user_processed', encoding = 'utf-8', index = False)"
   ]
  }
 ],
 "metadata": {
  "kernelspec": {
   "display_name": "Python 3 (ipykernel)",
   "language": "python",
   "name": "python3"
  },
  "language_info": {
   "codemirror_mode": {
    "name": "ipython",
    "version": 3
   },
   "file_extension": ".py",
   "mimetype": "text/x-python",
   "name": "python",
   "nbconvert_exporter": "python",
   "pygments_lexer": "ipython3",
   "version": "3.8.13"
  },
  "toc": {
   "base_numbering": 1,
   "nav_menu": {
    "height": "228px",
    "width": "352px"
   },
   "number_sections": false,
   "sideBar": true,
   "skip_h1_title": false,
   "title_cell": "Table of Contents",
   "title_sidebar": "Contents",
   "toc_cell": false,
   "toc_position": {
    "height": "calc(100% - 180px)",
    "left": "10px",
    "top": "150px",
    "width": "169.2px"
   },
   "toc_section_display": true,
   "toc_window_display": false
  },
  "varInspector": {
   "cols": {
    "lenName": 16,
    "lenType": 16,
    "lenVar": 40
   },
   "kernels_config": {
    "python": {
     "delete_cmd_postfix": "",
     "delete_cmd_prefix": "del ",
     "library": "var_list.py",
     "varRefreshCmd": "print(var_dic_list())"
    },
    "r": {
     "delete_cmd_postfix": ") ",
     "delete_cmd_prefix": "rm(",
     "library": "var_list.r",
     "varRefreshCmd": "cat(var_dic_list()) "
    }
   },
   "types_to_exclude": [
    "module",
    "function",
    "builtin_function_or_method",
    "instance",
    "_Feature"
   ],
   "window_display": false
  }
 },
 "nbformat": 4,
 "nbformat_minor": 5
}
